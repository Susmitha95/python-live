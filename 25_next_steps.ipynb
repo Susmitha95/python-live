{
 "metadata": {
  "name": ""
 },
 "nbformat": 3,
 "nbformat_minor": 0,
 "worksheets": [
  {
   "cells": [
    {
     "cell_type": "markdown",
     "metadata": {},
     "source": [
      "Start writing scripts in <filename>.py files.\n",
      "Run it with python filename.py\n",
      "A list of Free tutorials available https://github.com/vhf/free-programming-books/blob/master/free-programming-books.md#python\n",
      "Best resource for references would be http://docs.python.org/2.7/\n",
      "\n",
      "Some book suggestions (more in the list above)\n",
      "\n",
      "Learn Python the Hard Way - Zed Shaw\n",
      "\n",
      "A Bite Of Python - Swaroop C H\n",
      "\n",
      "Dive into Python - Mark Pilgrim"
     ]
    },
    {
     "cell_type": "markdown",
     "metadata": {},
     "source": [
      "\n",
      "\n",
      "#### _Go back to the blog post:_ http://infiniteloop.in/blog/easiest-way-to-learn-python/"
     ]
    }
   ],
   "metadata": {}
  }
 ]
}