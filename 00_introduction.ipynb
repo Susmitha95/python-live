{
 "metadata": {
  "name": ""
 },
 "nbformat": 3,
 "nbformat_minor": 0,
 "worksheets": [
  {
   "cells": [
    {
     "cell_type": "markdown",
     "metadata": {},
     "source": [
      "### Learn Python Through Examples ###\n",
      "#### by atm (@atmb4u) ####\n",
      "\n",
      "[If you are running this locally, Use Ctrl+Enter to run each command, Edit each of them and try it yourself.\n",
      "If you are seeing it online, have a look at HOW TO run this locally(https://github.com/atmb4u/python-live/blob/master/README).]"
     ]
    },
    {
     "cell_type": "raw",
     "metadata": {},
     "source": [
      "Python, as like every programming language have Keywords and Identifiers. Words like for, if, while, list, print, and etc ... are Keywords, which are reserved, and identifiers, like alice, bob, foo12, __red, foo_bar variables defined by the programmer. 007james is an INVALID identifier."
     ]
    },
    {
     "cell_type": "code",
     "collapsed": false,
     "input": [
      "print \"Hello world\""
     ],
     "language": "python",
     "metadata": {},
     "outputs": [
      {
       "output_type": "stream",
       "stream": "stdout",
       "text": [
        "Hello world\n"
       ]
      }
     ],
     "prompt_number": 1
    },
    {
     "cell_type": "code",
     "collapsed": false,
     "input": [
      "alice = \"Hello world\"  # alice is now a name(refered mostly as a variable), with the value Hello world in it\"\n",
      "alice = 'Hello world'  # this is also correct. Alice is an identifier\n"
     ],
     "language": "python",
     "metadata": {},
     "outputs": [],
     "prompt_number": 2
    },
    {
     "cell_type": "code",
     "collapsed": false,
     "input": [
      "print alice[0]\n",
      "print alice[1]\n",
      "print alice[3:6]\n",
      "user_id = \"IN329433\"\n",
      "print user_id[2:8]"
     ],
     "language": "python",
     "metadata": {},
     "outputs": [
      {
       "output_type": "stream",
       "stream": "stdout",
       "text": [
        "H\n",
        "e\n",
        "lo \n",
        "329433\n"
       ]
      }
     ],
     "prompt_number": 3
    },
    {
     "cell_type": "code",
     "collapsed": false,
     "input": [
      "print \"alice holds \", alice  # bad way of printing, will teach you better way to do it in 02.\n",
      "print \"alice[1:5] is \", alice[1:5]\n",
      "print \"alice.isalnum() \", alice.isalnum()  # False: why? space is not alnum\n",
      "print \"alice.upper() is \", alice.upper()\n"
     ],
     "language": "python",
     "metadata": {},
     "outputs": [
      {
       "output_type": "stream",
       "stream": "stdout",
       "text": [
        "alice holds  Hello world\n",
        "alice[1:5] is  ello\n",
        "alice.isalnum()  False\n",
        "alice.upper() is  HELLO WORLD\n"
       ]
      }
     ],
     "prompt_number": 4
    },
    {
     "cell_type": "code",
     "collapsed": false,
     "input": [
      "bob = 10  # bob is an integer type variable\n",
      "bob = 10.0  # now bob is a float variable "
     ],
     "language": "python",
     "metadata": {},
     "outputs": [],
     "prompt_number": 5
    },
    {
     "cell_type": "code",
     "collapsed": false,
     "input": [
      "print \"bob holds \", bob"
     ],
     "language": "python",
     "metadata": {},
     "outputs": [
      {
       "output_type": "stream",
       "stream": "stdout",
       "text": [
        "bob holds  10.0\n"
       ]
      }
     ],
     "prompt_number": 6
    },
    {
     "cell_type": "raw",
     "metadata": {},
     "source": [
      "Python is dynamically typed. That means, there is no need to specify the type of the variable declared upfront.\n",
      "If you use C/C++, you know this is a big advantage. \n"
     ]
    },
    {
     "cell_type": "code",
     "collapsed": false,
     "input": [
      "print \"Type of alice is \", type(alice)\n",
      "print \"Type of bob is \", type(bob)"
     ],
     "language": "python",
     "metadata": {},
     "outputs": [
      {
       "output_type": "stream",
       "stream": "stdout",
       "text": [
        "Type of alice is  <type 'str'>\n",
        "Type of bob is  <type 'float'>\n"
       ]
      }
     ],
     "prompt_number": 7
    },
    {
     "cell_type": "raw",
     "metadata": {},
     "source": [
      "Everything in python is an object, even above mentioned datatypes. \n",
      "There exist awesome datastructures like list and dictionaries, and we'll see it in later tutorials.\n",
      "\n",
      "Lets do some advanced formatting"
     ]
    },
    {
     "cell_type": "code",
     "collapsed": false,
     "input": [
      "\n",
      "alice = \"Python\"\n",
      "bob\t = 40\n",
      "mike = 100\n",
      "\n",
      "print \"%s is %d%% object oriented; sorry %d%%.\" % (alice, bob, mike)\n"
     ],
     "language": "python",
     "metadata": {},
     "outputs": [
      {
       "output_type": "stream",
       "stream": "stdout",
       "text": [
        "Python is 40% object oriented; sorry 100%.\n"
       ]
      }
     ],
     "prompt_number": 8
    },
    {
     "cell_type": "raw",
     "metadata": {},
     "source": [
      "%s - string\n",
      "%d - int\n",
      "%f - float"
     ]
    },
    {
     "cell_type": "code",
     "collapsed": false,
     "input": [
      "value = 1234567.1234567890\n",
      "print \"%8.2f\" % value"
     ],
     "language": "python",
     "metadata": {},
     "outputs": [
      {
       "output_type": "stream",
       "stream": "stdout",
       "text": [
        "1234567.12\n"
       ]
      }
     ],
     "prompt_number": 9
    }
   ],
   "metadata": {}
  }
 ]
}