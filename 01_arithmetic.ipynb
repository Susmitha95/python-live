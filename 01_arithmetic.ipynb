{
 "metadata": {
  "name": "01_arithmetic"
 },
 "nbformat": 3,
 "nbformat_minor": 0,
 "worksheets": [
  {
   "cells": [
    {
     "cell_type": "raw",
     "metadata": {},
     "source": [
      "Alice and Bob got some secrets. And combining those secrets, they get Cindy. Let's see how to do some basic arithmetic operations in python."
     ]
    },
    {
     "cell_type": "code",
     "collapsed": false,
     "input": [
      "alice_secret = 31\n",
      "bob_secret = 11"
     ],
     "language": "python",
     "metadata": {},
     "outputs": [],
     "prompt_number": 1
    },
    {
     "cell_type": "code",
     "collapsed": false,
     "input": [
      "carly = alice_secret + bob_secret"
     ],
     "language": "python",
     "metadata": {},
     "outputs": [],
     "prompt_number": 2
    },
    {
     "cell_type": "code",
     "collapsed": false,
     "input": [
      "print \"Carly holds %d, sum of %d and %d\" % (carly, alice_secret, bob_secret)"
     ],
     "language": "python",
     "metadata": {},
     "outputs": [
      {
       "output_type": "stream",
       "stream": "stdout",
       "text": [
        "Carly holds 42, sum of 31 and 11\n"
       ]
      }
     ],
     "prompt_number": 3
    },
    {
     "cell_type": "raw",
     "metadata": {},
     "source": [
      "Similarly, python is capable of most of common operations out of the box.\n",
      "For everything else, there is math module."
     ]
    },
    {
     "cell_type": "code",
     "collapsed": false,
     "input": [
      "print \"%d - %d is %d\" % (alice_secret, bob_secret, alice_secret - bob_secret)\n",
      "print \"%d - %d is %d\" % (bob_secret, alice_secret, bob_secret - alice_secret)\n",
      "print \"%d * %d is %d\" % (alice_secret, bob_secret, alice_secret * bob_secret)"
     ],
     "language": "python",
     "metadata": {},
     "outputs": [
      {
       "output_type": "stream",
       "stream": "stdout",
       "text": [
        "31 - 11 is 20\n",
        "11 - 31 is -20\n",
        "31 * 11 is 341\n"
       ]
      }
     ],
     "prompt_number": 4
    },
    {
     "cell_type": "raw",
     "metadata": {},
     "source": [
      "now look at this"
     ]
    },
    {
     "cell_type": "code",
     "collapsed": false,
     "input": [
      "print \"%d / %d is %f\" % (alice_secret, bob_secret, alice_secret / bob_secret)"
     ],
     "language": "python",
     "metadata": {},
     "outputs": [
      {
       "output_type": "stream",
       "stream": "stdout",
       "text": [
        "31 / 11 is 2.000000\n"
       ]
      }
     ],
     "prompt_number": 5
    },
    {
     "cell_type": "raw",
     "metadata": {},
     "source": [
      "now, that's bad! Integer divison in python omits the decimal part. Try this instead."
     ]
    },
    {
     "cell_type": "code",
     "collapsed": false,
     "input": [
      "print \"%d / %f is %f\" % (alice_secret, float(bob_secret), alice_secret / float(bob_secret))"
     ],
     "language": "python",
     "metadata": {},
     "outputs": [
      {
       "output_type": "stream",
       "stream": "stdout",
       "text": [
        "31 / 11.000000 is 2.818182\n"
       ]
      }
     ],
     "prompt_number": 6
    },
    {
     "cell_type": "code",
     "collapsed": false,
     "input": [
      "print \"%d %% %d is %d\" % (alice_secret, bob_secret, alice_secret % bob_secret)"
     ],
     "language": "python",
     "metadata": {},
     "outputs": [
      {
       "output_type": "stream",
       "stream": "stdout",
       "text": [
        "31 % 11 is 9\n"
       ]
      }
     ],
     "prompt_number": 7
    },
    {
     "cell_type": "raw",
     "metadata": {},
     "source": [
      "Python can evaluate expressions as well, very similar to the way you do it in paper."
     ]
    },
    {
     "cell_type": "code",
     "collapsed": false,
     "input": [
      "print \"(%d + %d)*(%d - %d) is %d\"  % (alice_secret, bob_secret, alice_secret, bob_secret, \\\n",
      "\t\t((alice_secret+bob_secret)*(alice_secret-bob_secret)))\n"
     ],
     "language": "python",
     "metadata": {},
     "outputs": [
      {
       "output_type": "stream",
       "stream": "stdout",
       "text": [
        "(31 + 11)*(31 - 11) is 840\n"
       ]
      }
     ],
     "prompt_number": 8
    },
    {
     "cell_type": "raw",
     "metadata": {},
     "source": [
      "See the \\ at the end of line. Yeah, this is to split long lines of code into muliple lines."
     ]
    }
   ],
   "metadata": {}
  }
 ]
}