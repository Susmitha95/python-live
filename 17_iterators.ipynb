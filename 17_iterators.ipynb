{
 "metadata": {
  "name": "17_iterators"
 },
 "nbformat": 3,
 "nbformat_minor": 0,
 "worksheets": [
  {
   "cells": [
    {
     "cell_type": "raw",
     "metadata": {},
     "source": [
      "Python iterator objects are stepping functions to iterate over a list of same class objects.\n",
      "They are needed to have two methods while following the iterator protocol.\n",
      "\n",
      "1. __iter__ - returns the iterator object itself. This is used in for and in statements. (iterables)\n",
      "\n",
      "2. next method - returns the next value from the iterator. Automatically invoked. If there is no more items left, then it should raise StopIteration exception.\n",
      "\n",
      "Iterables are any objects you can get an iterator from. Iterators are objects that let you iterate on iterables."
     ]
    },
    {
     "cell_type": "code",
     "collapsed": false,
     "input": [
      "class Counter(object):\n",
      "    def __init__(self, lower_limit, higher_limit):\n",
      "        \"\"\"\n",
      "        initializes the Counter class type object with lower_limit\n",
      "        and higher_limit\n",
      "        \"\"\"\n",
      "        self.current = lower_limit\n",
      "        self.higher_limit = higher_limit\n",
      "\n",
      "    def __iter__(self):\n",
      "        \"\"\"\n",
      "        __iter__() magic function takes care of the iteration,\n",
      "        and in this case, it returns the same object, \n",
      "        as it is having a .next()\n",
      "        \"\"\"\n",
      "        return self\n",
      "\n",
      "    def next(self):\n",
      "        \"\"\"\n",
      "        next function defines the next value to be popped off,\n",
      "        when iterator is invoked next time. In the example case,\n",
      "        when current iteration is higher than higher_limit, it \n",
      "        raises a StopIteration exception.\n",
      "        \"\"\"\n",
      "        if self.current > self.higher_limit:\n",
      "            raise StopIteration\n",
      "        else:\n",
      "            self.current += 1\n",
      "            return self.current - 1"
     ],
     "language": "python",
     "metadata": {},
     "outputs": [],
     "prompt_number": 8
    },
    {
     "cell_type": "code",
     "collapsed": false,
     "input": [
      "c = Counter(1, 3)"
     ],
     "language": "python",
     "metadata": {},
     "outputs": [],
     "prompt_number": 9
    },
    {
     "cell_type": "code",
     "collapsed": false,
     "input": [
      "for item in c:\n",
      "    print item"
     ],
     "language": "python",
     "metadata": {},
     "outputs": [
      {
       "output_type": "stream",
       "stream": "stdout",
       "text": [
        "1\n",
        "2\n",
        "3\n"
       ]
      }
     ],
     "prompt_number": 10
    },
    {
     "cell_type": "markdown",
     "metadata": {},
     "source": [
      "## ! Important ##"
     ]
    },
    {
     "cell_type": "raw",
     "metadata": {},
     "source": [
      "Iterators are a great way to run through list of objects and they are considered to be memory efficient and scalable. So, try using iterators whenever possible.\n",
      "\n",
      "itertools is a standard library module with tons of iterator related functions. You should probably check it out."
     ]
    }
   ],
   "metadata": {}
  }
 ]
}