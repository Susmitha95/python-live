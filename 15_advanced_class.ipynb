{
 "metadata": {
  "name": ""
 },
 "nbformat": 3,
 "nbformat_minor": 0,
 "worksheets": [
  {
   "cells": [
    {
     "cell_type": "markdown",
     "metadata": {},
     "source": [
      "## Advanced Class"
     ]
    },
    {
     "cell_type": "code",
     "collapsed": false,
     "input": [
      "import datetime\n",
      "\n",
      "class Human(object)\t:\n",
      "    \"\"\"\n",
      "    A class for modelling humans with name and age\n",
      "    \"\"\"\n",
      "    name = \"No Name\"\n",
      "    age = 0\n",
      "    def year_of_birth(self):\n",
      "        \"\"\"\n",
      "        self is the default argument for all member functions or methods in a class.\n",
      "        self can be used to access functions or values within the objects.\n",
      "        \"\"\"\n",
      "        timed = datetime.datetime.now() - datetime.timedelta(days=365 * self.age)\n",
      "        print \"%s is born in %s.\" %(self.name, timed.year)\n",
      "        return\n",
      "\n",
      "    def __init__(self, name=\"\", age=0):\n",
      "        if name:\n",
      "            self.name = name\n",
      "        self.age = age\n",
      "        return\n",
      "\n",
      "    def __eq__(self, another):\n",
      "        if self.name == another.name and self.age == another.age:\n",
      "            return True\n",
      "        else:\n",
      "            return False\n",
      "        \n",
      "    def husband(self, spouse):\n",
      "        print \"%s is married to %s.\" % (self.name, spouse.name)\n",
      "        return\n",
      "\n",
      "class Human(object)\t:\n",
      "    \"\"\"\n",
      "    A class for modelling humans with name and age\n",
      "    \"\"\"\n",
      "    name = \"No Name\"\n",
      "    age = 0\n",
      "    def year_of_birth(self):\n",
      "        \"\"\"\n",
      "        self is the default argument for all member functions or methods in a class.\n",
      "        self can be used to access functions or values within the objects.\n",
      "        \"\"\"\n",
      "        timed = datetime.datetime.now() - datetime.timedelta(days=365 * self.age)\n",
      "        print \"%s is born in %s.\" %(self.name, timed.year)\n",
      "        return\n",
      "\n",
      "    def __init__(self, name=\"\", age=0):\n",
      "        if name:\n",
      "            self.name = name\n",
      "        self.age = age\n",
      "        return\n",
      "\n",
      "    def __eq__(self, another):\n",
      "        if self.name == another.name and self.age == another.age:\n",
      "            return True\n",
      "        else:\n",
      "            return False\n",
      "        \n",
      "    def husband(self, spouse):\n",
      "        print \"%s is married to %s.\" % (self.name, spouse.name)\n",
      "        return"
     ],
     "language": "python",
     "metadata": {},
     "outputs": [],
     "prompt_number": 1
    },
    {
     "cell_type": "code",
     "collapsed": false,
     "input": [
      "b1 = Human('bob', 26)\n",
      "b2 = Human('aly', 24)"
     ],
     "language": "python",
     "metadata": {},
     "outputs": [],
     "prompt_number": 2
    },
    {
     "cell_type": "code",
     "collapsed": false,
     "input": [
      "b1 > b2"
     ],
     "language": "python",
     "metadata": {},
     "outputs": [
      {
       "metadata": {},
       "output_type": "pyout",
       "prompt_number": 3,
       "text": [
        "False"
       ]
      }
     ],
     "prompt_number": 3
    },
    {
     "cell_type": "code",
     "collapsed": false,
     "input": [
      "b1 < b2"
     ],
     "language": "python",
     "metadata": {},
     "outputs": [
      {
       "metadata": {},
       "output_type": "pyout",
       "prompt_number": 4,
       "text": [
        "True"
       ]
      }
     ],
     "prompt_number": 4
    },
    {
     "cell_type": "code",
     "collapsed": false,
     "input": [
      "b1 == b2"
     ],
     "language": "python",
     "metadata": {},
     "outputs": [
      {
       "metadata": {},
       "output_type": "pyout",
       "prompt_number": 5,
       "text": [
        "False"
       ]
      }
     ],
     "prompt_number": 5
    },
    {
     "cell_type": "raw",
     "metadata": {},
     "source": [
      "Here is another example. This time a little introduction to property. \n",
      "In the following example of a bank account, we will make sure that no \n",
      "one can set the money value to negative and also a property called inr \n",
      "will give us the INR values of the dollars in the account."
     ]
    },
    {
     "cell_type": "code",
     "collapsed": false,
     "input": [
      "class Account(object):\n",
      "    \"\"\"\n",
      "    Example from : http://pymbook.readthedocs.org/en/latest/classes.html\n",
      "    The Account class, The amount is in dollars.\n",
      "    \"\"\"\n",
      "    def __init__(self, rate):\n",
      "        self.__amt = 0\n",
      "        self.rate = rate\n",
      "\n",
      "    @property\n",
      "    def amount(self):\n",
      "        \"The amount of money in the account\"\n",
      "        return self.__amt\n",
      "\n",
      "    @property\n",
      "    def inr(self):\n",
      "        \"Gives the money in INR value.\"\n",
      "        return self.__amt * self.rate\n",
      "\n",
      "    @amount.setter\n",
      "    def amount(self, value):\n",
      "        if value < 0:\n",
      "            print \"Sorry, no negative amount in the account.\"\n",
      "            return\n",
      "        self.__amt = value"
     ],
     "language": "python",
     "metadata": {},
     "outputs": [],
     "prompt_number": 6
    },
    {
     "cell_type": "code",
     "collapsed": false,
     "input": [
      "acc = Account(67)\n",
      "acc.amount = 20\n",
      "print \"Dollar amount:\", acc.amount\n",
      "print \"In INR:\", acc.inr\n",
      "acc.amount = -100\n",
      "print \"Dollar amount:\", acc.amount"
     ],
     "language": "python",
     "metadata": {},
     "outputs": [
      {
       "output_type": "stream",
       "stream": "stdout",
       "text": [
        "Dollar amount: 20\n",
        "In INR: 1340\n",
        "Sorry, no negative amount in the account.\n",
        "Dollar amount: 20\n"
       ]
      }
     ],
     "prompt_number": 7
    },
    {
     "cell_type": "markdown",
     "metadata": {},
     "source": [
      "\n",
      "\n",
      "#### _Go back to the blog post:_ [http://infiniteloop.in/blog/easiest-way-to-learn-python-part-3/](http://infiniteloop.in/blog/easiest-way-to-learn-python-part-3/)"
     ]
    }
   ],
   "metadata": {}
  }
 ]
}