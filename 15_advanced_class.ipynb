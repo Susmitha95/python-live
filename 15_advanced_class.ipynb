{
 "metadata": {
  "name": "15_advanced_class"
 },
 "nbformat": 3,
 "nbformat_minor": 0,
 "worksheets": [
  {
   "cells": [
    {
     "cell_type": "code",
     "collapsed": false,
     "input": [
      "import datetime\n",
      "\n",
      "class Human(object)\t:\n",
      "\t\"\"\"\n",
      "\tA class for modelling humans with name and age\n",
      "\t\"\"\"\n",
      "\tname = \"No Name\"\n",
      "\tage = 0\n",
      "\tdef year_of_birth(self):\n",
      "\t\t\"\"\"\n",
      "\t\tself is the default argument for all member functions or methods in a class.\n",
      "\t\tself can be used to access functions or values within the objects.\n",
      "\t\t\"\"\"\n",
      "\t\ttimed = datetime.datetime.now() - datetime.timedelta(days=365 * self.age)\n",
      "\t\tprint \"%s is born in %s.\" %(self.name, timed.year)\n",
      "\t\treturn\n",
      "\n",
      "\tdef __init__(self, name=\"\", age=0):\n",
      "\t\tif name:\n",
      "\t\t\tself.name = name\n",
      "\t\tself.age = age\n",
      "        return\n",
      "\n",
      "\tdef __eq__(self, another):\n",
      "\t\tif self.name == another.name and self.age == another.age:\n",
      "\t\t\treturn True\n",
      "\t\telse:\n",
      "\t\t\treturn False\n",
      "\n",
      "\tdef husband(self, spouse):\n",
      "\t\tprint \"%s is married to %s.\" % (self.name, spouse.name)\n",
      "\t\treturn"
     ],
     "language": "python",
     "metadata": {},
     "outputs": [
      {
       "ename": "IndentationError",
       "evalue": "unindent does not match any outer indentation level (<ipython-input-14-21cb98576e89>, line 24)",
       "output_type": "pyerr",
       "traceback": [
        "\u001b[1;36m  File \u001b[1;32m\"<ipython-input-14-21cb98576e89>\"\u001b[1;36m, line \u001b[1;32m24\u001b[0m\n\u001b[1;33m    def __eq__(self, another):\u001b[0m\n\u001b[1;37m                              ^\u001b[0m\n\u001b[1;31mIndentationError\u001b[0m\u001b[1;31m:\u001b[0m unindent does not match any outer indentation level\n"
       ]
      }
     ],
     "prompt_number": 14
    },
    {
     "cell_type": "code",
     "collapsed": false,
     "input": [
      "b1 = Human('bob', 26)\n",
      "b2 = Human('aly', 24)"
     ],
     "language": "python",
     "metadata": {},
     "outputs": [],
     "prompt_number": 3
    },
    {
     "cell_type": "code",
     "collapsed": false,
     "input": [
      "b1 > b2"
     ],
     "language": "python",
     "metadata": {},
     "outputs": [
      {
       "output_type": "pyout",
       "prompt_number": 4,
       "text": [
        "True"
       ]
      }
     ],
     "prompt_number": 4
    },
    {
     "cell_type": "code",
     "collapsed": false,
     "input": [
      "b2 < b1"
     ],
     "language": "python",
     "metadata": {},
     "outputs": [
      {
       "output_type": "pyout",
       "prompt_number": 5,
       "text": [
        "True"
       ]
      }
     ],
     "prompt_number": 5
    },
    {
     "cell_type": "code",
     "collapsed": false,
     "input": [
      "b1 == b2"
     ],
     "language": "python",
     "metadata": {},
     "outputs": [
      {
       "output_type": "pyout",
       "prompt_number": 6,
       "text": [
        "False"
       ]
      }
     ],
     "prompt_number": 6
    },
    {
     "cell_type": "code",
     "collapsed": false,
     "input": [
      "Human."
     ],
     "language": "python",
     "metadata": {},
     "outputs": [
      {
       "output_type": "pyout",
       "prompt_number": 10,
       "text": [
        "<method-wrapper '__eq__' of type object at 0x32ef850>"
       ]
      }
     ],
     "prompt_number": 10
    },
    {
     "cell_type": "code",
     "collapsed": false,
     "input": [],
     "language": "python",
     "metadata": {},
     "outputs": []
    }
   ],
   "metadata": {}
  }
 ]
}