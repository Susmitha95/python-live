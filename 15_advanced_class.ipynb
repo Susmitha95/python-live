{
 "metadata": {
  "name": ""
 },
 "nbformat": 3,
 "nbformat_minor": 0,
 "worksheets": [
  {
   "cells": [
    {
     "cell_type": "markdown",
     "metadata": {},
     "source": [
      "## Advanced Class"
     ]
    },
    {
     "cell_type": "code",
     "collapsed": false,
     "input": [
      "import datetime\n",
      "\n",
      "class Human(object)\t:\n",
      "\t\"\"\"\n",
      "\tA class for modelling humans with name and age\n",
      "\t\"\"\"\n",
      "\tname = \"No Name\"\n",
      "\tage = 0\n",
      "\tdef year_of_birth(self):\n",
      "\t\t\"\"\"\n",
      "\t\tself is the default argument for all member functions or methods in a class.\n",
      "\t\tself can be used to access functions or values within the objects.\n",
      "\t\t\"\"\"\n",
      "\t\ttimed = datetime.datetime.now() - datetime.timedelta(days=365 * self.age)\n",
      "\t\tprint \"%s is born in %s.\" %(self.name, timed.year)\n",
      "\t\treturn\n",
      "\n",
      "\tdef __init__(self, name=\"\", age=0):\n",
      "\t\tif name:\n",
      "\t\t\tself.name = name\n",
      "\t\tself.age = age\n",
      "        return\n",
      "\n",
      "\tdef __eq__(self, another):\n",
      "\t\tif self.name == another.name and self.age == another.age:\n",
      "\t\t\treturn True\n",
      "\t\telse:\n",
      "\t\t\treturn False\n",
      "\n",
      "\tdef husband(self, spouse):\n",
      "\t\tprint \"%s is married to %s.\" % (self.name, spouse.name)\n",
      "\t\treturn"
     ],
     "language": "python",
     "metadata": {},
     "outputs": [
      {
       "ename": "IndentationError",
       "evalue": "unindent does not match any outer indentation level (<ipython-input-14-21cb98576e89>, line 24)",
       "output_type": "pyerr",
       "traceback": [
        "\u001b[1;36m  File \u001b[1;32m\"<ipython-input-14-21cb98576e89>\"\u001b[1;36m, line \u001b[1;32m24\u001b[0m\n\u001b[1;33m    def __eq__(self, another):\u001b[0m\n\u001b[1;37m                              ^\u001b[0m\n\u001b[1;31mIndentationError\u001b[0m\u001b[1;31m:\u001b[0m unindent does not match any outer indentation level\n"
       ]
      }
     ],
     "prompt_number": 14
    },
    {
     "cell_type": "code",
     "collapsed": false,
     "input": [
      "b1 = Human('bob', 26)\n",
      "b2 = Human('aly', 24)"
     ],
     "language": "python",
     "metadata": {},
     "outputs": [],
     "prompt_number": 3
    },
    {
     "cell_type": "code",
     "collapsed": false,
     "input": [
      "b1 > b2"
     ],
     "language": "python",
     "metadata": {},
     "outputs": [
      {
       "output_type": "pyout",
       "prompt_number": 4,
       "text": [
        "True"
       ]
      }
     ],
     "prompt_number": 4
    },
    {
     "cell_type": "code",
     "collapsed": false,
     "input": [
      "b2 < b1"
     ],
     "language": "python",
     "metadata": {},
     "outputs": [
      {
       "output_type": "pyout",
       "prompt_number": 5,
       "text": [
        "True"
       ]
      }
     ],
     "prompt_number": 5
    },
    {
     "cell_type": "code",
     "collapsed": false,
     "input": [
      "b1 == b2"
     ],
     "language": "python",
     "metadata": {},
     "outputs": [
      {
       "output_type": "pyout",
       "prompt_number": 6,
       "text": [
        "False"
       ]
      }
     ],
     "prompt_number": 6
    },
    {
     "cell_type": "raw",
     "metadata": {},
     "source": [
      "Here is another example. This time a little introduction to property. \n",
      "In the following example of a bank account, we will make sure that no \n",
      "one can set the money value to negative and also a property called inr \n",
      "will give us the INR values of the dollars in the account."
     ]
    },
    {
     "cell_type": "code",
     "collapsed": false,
     "input": [
      "class Account(object):\n",
      "    \"\"\"\n",
      "    Example from : http://pymbook.readthedocs.org/en/latest/classes.html\n",
      "    The Account class, The amount is in dollars.\n",
      "    \"\"\"\n",
      "    def __init__(self, rate):\n",
      "        self.__amt = 0\n",
      "        self.rate = rate\n",
      "\n",
      "    @property\n",
      "    def amount(self):\n",
      "        \"The amount of money in the account\"\n",
      "        return self.__amt\n",
      "\n",
      "    @property\n",
      "    def inr(self):\n",
      "        \"Gives the money in INR value.\"\n",
      "        return self.__amt * self.rate\n",
      "\n",
      "    @amount.setter\n",
      "    def amount(self, value):\n",
      "        if value < 0:\n",
      "            print \"Sorry, no negative amount in the account.\"\n",
      "            return\n",
      "        self.__amt = value"
     ],
     "language": "python",
     "metadata": {},
     "outputs": [],
     "prompt_number": 1
    },
    {
     "cell_type": "code",
     "collapsed": false,
     "input": [
      "acc = Account(67)\n",
      "acc.amount = 20\n",
      "print \"Dollar amount:\", acc.amount\n",
      "print \"In INR:\", acc.inr\n",
      "acc.amount = -100\n",
      "print \"Dollar amount:\", acc.amount"
     ],
     "language": "python",
     "metadata": {},
     "outputs": [
      {
       "output_type": "stream",
       "stream": "stdout",
       "text": [
        "Dollar amount: 20\n",
        "In INR: 1340\n",
        "Sorry, no negative amount in the account.\n",
        "Dollar amount: 20\n"
       ]
      }
     ],
     "prompt_number": 2
    },
    {
     "cell_type": "markdown",
     "metadata": {},
     "source": [
      "\n",
      "\n",
      "#### _Go back to the blog post:_ http://infiniteloop.in/blog/easiest-way-to-learn-python-part-3/"
     ]
    }
   ],
   "metadata": {}
  }
 ]
}