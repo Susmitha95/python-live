{
 "metadata": {
  "name": ""
 },
 "nbformat": 3,
 "nbformat_minor": 0,
 "worksheets": [
  {
   "cells": [
    {
     "cell_type": "code",
     "collapsed": false,
     "input": [
      "alice_greetings = ['hello', 'hi', 'hey', 'morning', 'fine', 'hello', 'morning', 'hi']"
     ],
     "language": "python",
     "metadata": {},
     "outputs": [],
     "prompt_number": 1
    },
    {
     "cell_type": "raw",
     "metadata": {},
     "source": [
      "alice_greetings is a list, and contains repetition of the same entites. set is an immutable datatype, which omits duplicates. Examples below shows how to create a set out of a list, how to pop an element out of a set and other set theory fuctions like issubset or issuperset functions to be applied to the set."
     ]
    },
    {
     "cell_type": "code",
     "collapsed": false,
     "input": [
      "print \"alice_greetings: \", alice_greetings\n",
      "print \"set(alice_greetings): \", set(alice_greetings)\n",
      "print \"set(alice_greetings).pop(): \", set(alice_greetings).pop()\n",
      "print \"set(alice_greetings).issubset(alice_greetings)\", \\\n",
      "\t\t\tset(alice_greetings).issubset(alice_greetings)"
     ],
     "language": "python",
     "metadata": {},
     "outputs": [
      {
       "output_type": "stream",
       "stream": "stdout",
       "text": [
        "alice_greetings:  ['hello', 'hi', 'hey', 'morning', 'fine', 'hello', 'morning', 'hi']\n",
        "set(alice_greetings):  set(['fine', 'hi', 'morning', 'hello', 'hey'])\n",
        "set(alice_greetings).pop():  fine\n",
        "set(alice_greetings).issubset(alice_greetings) True\n"
       ]
      }
     ],
     "prompt_number": 2
    },
    {
     "cell_type": "code",
     "collapsed": false,
     "input": [
      "set([1,2,3,1,2,3,1,2,3])  # set out of a list"
     ],
     "language": "python",
     "metadata": {},
     "outputs": [
      {
       "output_type": "pyout",
       "prompt_number": 3,
       "text": [
        "set([1, 2, 3])"
       ]
      }
     ],
     "prompt_number": 3
    },
    {
     "cell_type": "code",
     "collapsed": false,
     "input": [
      "set((1,2,3,1,2,3,1,2,3))  # set out of a tuple"
     ],
     "language": "python",
     "metadata": {},
     "outputs": [
      {
       "output_type": "pyout",
       "prompt_number": 4,
       "text": [
        "set([1, 2, 3])"
       ]
      }
     ],
     "prompt_number": 4
    },
    {
     "cell_type": "markdown",
     "metadata": {},
     "source": [
      "\n",
      "\n",
      "#### _Go back to the blog post:_ http://infiniteloop.in/blog/easiest-way-to-learn-python-part-3/"
     ]
    }
   ],
   "metadata": {}
  }
 ]
}