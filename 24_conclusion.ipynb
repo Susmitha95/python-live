{
 "metadata": {
  "name": "24_conclusion"
 },
 "nbformat": 3,
 "nbformat_minor": 0,
 "worksheets": [
  {
   "cells": [
    {
     "cell_type": "raw",
     "metadata": {},
     "source": [
      "Congratulations!!!\n",
      "You have successfully completed learning the basics of python in detail.\n",
      "Now, let's put this in action. Let's build a complete banking application.\n",
      "Specs are as of below."
     ]
    },
    {
     "cell_type": "raw",
     "metadata": {},
     "source": [
      "Python Bank Corporation\n",
      "Operational Balance: 200k\n",
      "Clients: Bob, Alice, Joe\n",
      "Bob: 40k @ 10% for 1 year recurring\n",
      "Alice: 30k @ 12% p.a. for 5 years\n",
      "Joe: 90k debt @ 21% p.a. for 10 years\n",
      "    \n",
      "What is the expected balance at the end of 30 years, in the bank as well as in all 3 customer's accounts"
     ]
    },
    {
     "cell_type": "code",
     "collapsed": false,
     "input": [
      "# build your classes and manipulation functions here. Best of Luck!"
     ],
     "language": "python",
     "metadata": {},
     "outputs": []
    }
   ],
   "metadata": {}
  }
 ]
}