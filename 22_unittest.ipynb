{
 "metadata": {
  "name": ""
 },
 "nbformat": 3,
 "nbformat_minor": 0,
 "worksheets": [
  {
   "cells": [
    {
     "cell_type": "markdown",
     "metadata": {},
     "source": [
      "## Testing with unitest"
     ]
    },
    {
     "cell_type": "raw",
     "metadata": {},
     "source": [
      "unittest is a great way to maintain your development process smooth and your code base bug free.\n"
     ]
    },
    {
     "cell_type": "code",
     "collapsed": false,
     "input": [
      "import unittest"
     ],
     "language": "python",
     "metadata": {},
     "outputs": [],
     "prompt_number": 1
    },
    {
     "cell_type": "code",
     "collapsed": false,
     "input": [
      "class Calculator(object):\n",
      "\tdef __init__(self, x, y):\n",
      "\t\tself.x = x\n",
      "\t\tself.y = y\n",
      "\tdef add(self):\n",
      "\t\treturn self.x + self.y\n",
      "\tdef subtract(self):\n",
      "\t\treturn self.x - self.y\n",
      "\tdef multiply(self):\n",
      "\t\treturn self.x * self.y\n",
      "\tdef divide(self):\n",
      "\t\treturn self.x / float(self.y)"
     ],
     "language": "python",
     "metadata": {},
     "outputs": [],
     "prompt_number": 2
    },
    {
     "cell_type": "code",
     "collapsed": false,
     "input": [
      "class TestMCalculator(unittest.TestCase):\n",
      "\n",
      "    def setUp(self):\n",
      "        self.calculator = Calculator(100, 77)\n",
      "\n",
      "    def test_add(self):\n",
      "        '''\n",
      "        answer should be the sum of x and y.\n",
      "        '''\n",
      "        self.assertEqual(\n",
      "                self.calculator.add(), 177)\n",
      "\n",
      "    def test_subtract(self):\n",
      "        '''\n",
      "        answer should be x - y.\n",
      "        '''\n",
      "        self.assertEqual(\n",
      "                self.calculator.subtract(), 23)"
     ],
     "language": "python",
     "metadata": {},
     "outputs": [],
     "prompt_number": 14
    },
    {
     "cell_type": "code",
     "collapsed": false,
     "input": [
      "suite = unittest.TestLoader().loadTestsFromTestCase( TestMCalculator )\n",
      "unittest.TextTestRunner(verbosity=2).run( suite )"
     ],
     "language": "python",
     "metadata": {},
     "outputs": [
      {
       "output_type": "pyout",
       "prompt_number": 15,
       "text": [
        "<unittest.runner.TextTestResult run=2 errors=0 failures=0>"
       ]
      }
     ],
     "prompt_number": 15
    },
    {
     "cell_type": "raw",
     "metadata": {},
     "source": [
      "If you want to do it as a module, paste the following code in a file and run that file. \n",
      "NOTE: THIS WILL FAIL ON IPNB"
     ]
    },
    {
     "cell_type": "code",
     "collapsed": false,
     "input": [
      "# unittest_example.py\n",
      "\n",
      "import unittest\n",
      "\n",
      "class Calculator(object):\n",
      "\tdef __init__(self, x, y):\n",
      "\t\tself.x = x\n",
      "\t\tself.y = y\n",
      "\tdef add(self):\n",
      "\t\treturn self.x + self.y\n",
      "\tdef subtract(self):\n",
      "\t\treturn self.x - self.y\n",
      "\tdef multiply(self):\n",
      "\t\treturn self.x * self.y\n",
      "\tdef divide(self):\n",
      "\t\treturn self.x / float(self.y)\n",
      "\n",
      "\n",
      "class TestMCalculator(unittest.TestCase):\n",
      "\n",
      "    def setUp(self):\n",
      "        self.calculator = Calculator(100, 77)\n",
      "\n",
      "    def test_add(self):\n",
      "        '''\n",
      "        answer should be the sum of x and y.\n",
      "        '''\n",
      "        self.assertEqual(\n",
      "                self.calculator.add(), 177)\n",
      "\n",
      "    def test_subtract(self):\n",
      "        '''\n",
      "        answer should be x - y.\n",
      "        '''\n",
      "        self.assertEqual(\n",
      "                self.calculator.subtract(), 23)\n",
      "\n",
      "if __name__ == '__main__':\n",
      "    unittest.main()"
     ],
     "language": "python",
     "metadata": {},
     "outputs": []
    },
    {
     "cell_type": "raw",
     "metadata": {},
     "source": [
      "Method                      Checks that\n",
      "-----------------------------------------\n",
      "assertEqual(a, b)           a == b   \n",
      "assertNotEqual(a, b)        a != b   \n",
      "assertTrue(x)               bool(x) is True  \n",
      "assertFalse(x)              bool(x) is False     \n",
      "assertIs(a, b)              a is b\n",
      "assertIsNot(a, b)           a is not b\n",
      "assertIsNone(x)             x is None \n",
      "assertIsNotNone(x)          x is not None \n",
      "assertIn(a, b)              a in b\n",
      "assertNotIn(a, b)           a not in b\n",
      "assertIsInstance(a, b)      isinstance(a, b)  \n",
      "assertNotIsInstance(a, b)   not isinstance(a, b)"
     ]
    },
    {
     "cell_type": "markdown",
     "metadata": {},
     "source": [
      "\n",
      "\n",
      "#### _Go back to the blog post:_ http://infiniteloop.in/blog/easiest-way-to-learn-python-part-5/"
     ]
    }
   ],
   "metadata": {}
  }
 ]
}