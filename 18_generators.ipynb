{
 "metadata": {
  "name": ""
 },
 "nbformat": 3,
 "nbformat_minor": 0,
 "worksheets": [
  {
   "cells": [
    {
     "cell_type": "markdown",
     "metadata": {},
     "source": [
      "## Generators in Python"
     ]
    },
    {
     "cell_type": "raw",
     "metadata": {},
     "source": [
      "Generators are iterators, but you can only iterate over them once. \n",
      "It's because they do not store all the values in memory, \n",
      "they generate the values on the fly as below."
     ]
    },
    {
     "cell_type": "code",
     "collapsed": false,
     "input": [
      "mygenerator = (x*x for x in range(3))  # Generator Expression"
     ],
     "language": "python",
     "metadata": {},
     "outputs": [],
     "prompt_number": 1
    },
    {
     "cell_type": "code",
     "collapsed": false,
     "input": [
      "for i in mygenerator:\n",
      "    print i"
     ],
     "language": "python",
     "metadata": {},
     "outputs": [
      {
       "output_type": "stream",
       "stream": "stdout",
       "text": [
        "0\n",
        "1\n",
        "4\n"
       ]
      }
     ],
     "prompt_number": 3
    },
    {
     "cell_type": "raw",
     "metadata": {},
     "source": [
      "yield is a keyword that is used like return, except the function will return a generator."
     ]
    },
    {
     "cell_type": "code",
     "collapsed": false,
     "input": [
      "def createGenerator():  # Generator Creator Function\n",
      "    mylist = range(3)\n",
      "    for i in mylist:\n",
      "        yield i*i"
     ],
     "language": "python",
     "metadata": {},
     "outputs": [],
     "prompt_number": 4
    },
    {
     "cell_type": "code",
     "collapsed": false,
     "input": [
      "mygenerator = createGenerator()  # Creating a generator out of the createGenerator function"
     ],
     "language": "python",
     "metadata": {},
     "outputs": [],
     "prompt_number": 5
    },
    {
     "cell_type": "code",
     "collapsed": false,
     "input": [
      "for i in mygenerator:\n",
      "    print i"
     ],
     "language": "python",
     "metadata": {},
     "outputs": [
      {
       "output_type": "stream",
       "stream": "stdout",
       "text": [
        "0\n",
        "1\n",
        "4\n"
       ]
      }
     ],
     "prompt_number": 6
    },
    {
     "cell_type": "heading",
     "level": 3,
     "metadata": {},
     "source": [
      "!Important"
     ]
    },
    {
     "cell_type": "raw",
     "metadata": {},
     "source": [
      "The first time the for calls the generator object created from your function, \n",
      "it will run the code in your function from the beginning until it hits yield, \n",
      "then it'll return the first value of the loop. Then, each other call will run \n",
      "the loop you have written in the function one more time, and return the next\n",
      "value, until there is no value to return.\n",
      "\n",
      "You must understand that when you call the function, \n",
      "the code you have written in the function body does not run.\n",
      "\n",
      "Similar to iterators, generators are also optimized for memory usage and performance. \n",
      "So when you don't need history or previous values, generators are preferred to iterators."
     ]
    },
    {
     "cell_type": "markdown",
     "metadata": {},
     "source": [
      "\n",
      "\n",
      "#### _Go back to the blog post:_ [http://infiniteloop.in/blog/easiest-way-to-learn-python-part-4/](http://infiniteloop.in/blog/easiest-way-to-learn-python-part-4/)"
     ]
    }
   ],
   "metadata": {}
  }
 ]
}