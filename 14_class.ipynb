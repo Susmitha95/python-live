{
 "metadata": {
  "name": ""
 },
 "nbformat": 3,
 "nbformat_minor": 0,
 "worksheets": [
  {
   "cells": [
    {
     "cell_type": "raw",
     "metadata": {},
     "source": [
      "Let's move further into the details of python programming. I hope you've done 5-10 example programs involing functions, loop, conditions, lists and dictionaries. \n",
      "\n",
      "Don't get scared. Go on through the example given below, line by line, and read through the comments."
     ]
    },
    {
     "cell_type": "code",
     "collapsed": false,
     "input": [
      "import datetime\n",
      "\n",
      "class Human(object)\t:\n",
      "\t\"\"\"\n",
      "\tA class for modelling humans with name and age\n",
      "\t\"\"\"\n",
      "\tname = \"No Name\"\n",
      "\tage = 0\n",
      "\tdef year_of_birth(self):\n",
      "\t\t\"\"\"\n",
      "\t\tself is the default argument for all member functions or methods in a class.\n",
      "\t\tself can be used to access functions or values within the objects.\n",
      "\t\t\"\"\"\n",
      "\t\ttimed = datetime.datetime.now() - datetime.timedelta(days=365 * self.age)\n",
      "\t\tprint \"%s is born in %s.\" %(self.name, timed.year)\n",
      "\t\treturn\n",
      "\n",
      "\tdef __init__(self, name=\"\", age=0):\n",
      "\t\tif name:\n",
      "\t\t\tself.name = name\n",
      "\t\tself.age = age\n",
      "\n",
      "\tdef husband(self, spouse):\n",
      "\t\tprint \"%s is married to %s.\" % (self.name, spouse.name)\n",
      "\t\treturn\n",
      "\n",
      "\tdef __gt__(self, otherclass):\n",
      "        \"\"\"\n",
      "        overriding __gt__ (greaterthan) function to have custom behaviour.\n",
      "        \"\"\"\n",
      "\t\tif otherclass.total_marks < self.total_marks:\n",
      "\t\t\treturn True\n",
      "\t\telse:\n",
      "\t\t\treturn False\n",
      "\n",
      "bob = Human('Bob', 51)\n",
      "print \"%s is %d years old.\" % (bob.name, bob.age)\n",
      "alice = Human('Alice', 49)\n",
      "print \"%s is %d years old.\" % (alice.name, alice.age)\n",
      "\n",
      "bob.husband(alice)\n",
      "\n",
      "bob.year_of_birth()"
     ],
     "language": "python",
     "metadata": {},
     "outputs": []
    },
    {
     "cell_type": "raw",
     "metadata": {},
     "source": [
      "* __init__ - is the initialization function for Python classes. Like a constructor\n",
      "\n",
      "* __xyz__ - are called magic functions, used to manipulate the default behaviour of the class, see the example of __gt__\n"
     ]
    },
    {
     "cell_type": "markdown",
     "metadata": {},
     "source": [
      "__To summarize, class is a collection of variables and functions to manipulate and group different entities, treating them as from a single mold.__"
     ]
    }
   ],
   "metadata": {}
  }
 ]
}