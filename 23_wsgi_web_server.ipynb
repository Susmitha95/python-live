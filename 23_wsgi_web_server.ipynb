{
 "metadata": {
  "name": ""
 },
 "nbformat": 3,
 "nbformat_minor": 0,
 "worksheets": [
  {
   "cells": [
    {
     "cell_type": "markdown",
     "metadata": {},
     "source": [
      "## Basic Web Server in Python"
     ]
    },
    {
     "cell_type": "code",
     "collapsed": false,
     "input": [
      "from wsgiref.util import setup_testing_defaults\n",
      "from wsgiref.simple_server import make_server"
     ],
     "language": "python",
     "metadata": {},
     "outputs": [],
     "prompt_number": 1
    },
    {
     "cell_type": "raw",
     "metadata": {},
     "source": [
      "A relatively simple WSGI application. It's going to print out the\n",
      "environment dictionary after being updated by setup_testing_defaults\n"
     ]
    },
    {
     "cell_type": "code",
     "collapsed": false,
     "input": [
      "def simple_app(environ, start_response):\n",
      "    \"\"\"\n",
      "    This is the function wh\tich serves the hello world.\n",
      "    \"\"\"\n",
      "    setup_testing_defaults(environ)\n",
      "\n",
      "    status = '200 OK'\n",
      "    headers = [('Content-type', 'text/plain')]\n",
      "\n",
      "    start_response(status, headers)\n",
      "    hello = \"Hello world\"\n",
      "    return hello"
     ],
     "language": "python",
     "metadata": {},
     "outputs": [],
     "prompt_number": 2
    },
    {
     "cell_type": "code",
     "collapsed": false,
     "input": [
      "httpd = make_server('', 8000, simple_app)"
     ],
     "language": "python",
     "metadata": {},
     "outputs": [],
     "prompt_number": 3
    },
    {
     "cell_type": "code",
     "collapsed": false,
     "input": [
      "print \"Serving on port 8000... Check http://127.0.0.1:8000/ on browser\"\n",
      "httpd.serve_forever()  # Press interrupt the notebook kernel to stop the server"
     ],
     "language": "python",
     "metadata": {},
     "outputs": [
      {
       "output_type": "stream",
       "stream": "stdout",
       "text": [
        "Serving on port 8000... Check http://127.0.0.1:8000/ on browser\n"
       ]
      }
     ],
     "prompt_number": 5
    },
    {
     "cell_type": "markdown",
     "metadata": {},
     "source": [
      "\n",
      "\n",
      "#### _Go back to the blog post:_ http://infiniteloop.in/blog/easiest-way-to-learn-python-part-5/"
     ]
    }
   ],
   "metadata": {}
  }
 ]
}