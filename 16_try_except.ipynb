{
 "metadata": {
  "name": ""
 },
 "nbformat": 3,
 "nbformat_minor": 0,
 "worksheets": [
  {
   "cells": [
    {
     "cell_type": "markdown",
     "metadata": {},
     "source": [
      "## Exception Handling in Python"
     ]
    },
    {
     "cell_type": "raw",
     "metadata": {},
     "source": [
      "It is very unlikely that your code is perfect. At the same time, you don't want your program to choke and stop. try...except is python's way of saying, \"some exception has occured, tell me what to do\""
     ]
    },
    {
     "cell_type": "code",
     "collapsed": false,
     "input": [
      "try:\n",
      "\tq = 1/0\n",
      "except:\n",
      "\tprint \"Division by Zero\""
     ],
     "language": "python",
     "metadata": {},
     "outputs": [
      {
       "output_type": "stream",
       "stream": "stdout",
       "text": [
        "Division by Zero\n"
       ]
      }
     ],
     "prompt_number": 1
    },
    {
     "cell_type": "raw",
     "metadata": {},
     "source": [
      "Let's create a custom exception, and raise it, and then handle it."
     ]
    },
    {
     "cell_type": "code",
     "collapsed": false,
     "input": [
      "import datetime\n",
      "\n",
      "\n",
      "class NegativeAgeError(Exception):\n",
      "    def __init__(self, message):\n",
      "        super(NegativeAgeError, self).__init__(message)\n",
      "        self.message = message"
     ],
     "language": "python",
     "metadata": {},
     "outputs": [],
     "prompt_number": 2
    },
    {
     "cell_type": "raw",
     "metadata": {},
     "source": [
      "Now, that we got a custom Exception, inherited from the Exception class, we can use it in code we define, as below, in the check_age function."
     ]
    },
    {
     "cell_type": "code",
     "collapsed": false,
     "input": [
      "class Human:\n",
      "\t\"\"\"\n",
      "\tA class for modelling humans with name and age\n",
      "\n",
      "\t\"\"\"\n",
      "\tdef check_age(self, age):\n",
      "\t\t\"\"\"\n",
      "\t\tvalidate if age is valid\n",
      "\t\t\"\"\"\n",
      "\t\tif age >= 0:\n",
      "\t\t\treturn age\n",
      "\t\telse:\n",
      "\t\t\traise NegativeAgeError('Age is negative! Not possible.')\n",
      "\n",
      "\tdef __init__(self, name=\"\", age=0):\n",
      "\t\tif name:\n",
      "\t\t\tself.name = name\n",
      "\t\tif self.check_age(age):\n",
      "\t\t\tself.age = age"
     ],
     "language": "python",
     "metadata": {},
     "outputs": [],
     "prompt_number": 3
    },
    {
     "cell_type": "raw",
     "metadata": {},
     "source": [
      "If age is less than zero, it'll raise a NegativeAgeError with a custom error message."
     ]
    },
    {
     "cell_type": "code",
     "collapsed": false,
     "input": [
      "try:\n",
      "\tcindy = Human('Cindy', -1)\n",
      "except NegativeAgeError as msg:\n",
      "\tprint msg"
     ],
     "language": "python",
     "metadata": {},
     "outputs": [
      {
       "output_type": "stream",
       "stream": "stdout",
       "text": [
        "Age is negative! Not possible.\n"
       ]
      }
     ],
     "prompt_number": 4
    },
    {
     "cell_type": "raw",
     "metadata": {},
     "source": [
      "Look at the definition of cindy with age -1, which raises the exception and forces to execute the except part."
     ]
    },
    {
     "cell_type": "markdown",
     "metadata": {},
     "source": [
      "\n",
      "\n",
      "#### _Go back to the blog post:_ [http://infiniteloop.in/blog/easiest-way-to-learn-python-part-4/](http://infiniteloop.in/blog/easiest-way-to-learn-python-part-4/)"
     ]
    }
   ],
   "metadata": {}
  }
 ]
}