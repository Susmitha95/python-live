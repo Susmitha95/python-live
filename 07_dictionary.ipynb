{
 "metadata": {
  "name": "07_dictionary"
 },
 "nbformat": 3,
 "nbformat_minor": 0,
 "worksheets": [
  {
   "cells": [
    {
     "cell_type": "code",
     "collapsed": false,
     "input": [
      "carly_marks = [20, 19, 14, 18, 20]"
     ],
     "language": "python",
     "metadata": {},
     "outputs": [],
     "prompt_number": 1
    },
    {
     "cell_type": "raw",
     "metadata": {},
     "source": [
      "Doesn't it makes sense, if we could figure out which mark belongs to which subject?\n",
      "Thanks to python dictionaries. You can do that."
     ]
    },
    {
     "cell_type": "code",
     "collapsed": false,
     "input": [
      "carly_marks = {\n",
      "\t'English': 20,\n",
      "\t'Maths': 19,\n",
      "\t'Chemistry': 14,\n",
      "\t'Physics': 18,\n",
      "\t'Programming': 20\n",
      "}"
     ],
     "language": "python",
     "metadata": {},
     "outputs": [],
     "prompt_number": 2
    },
    {
     "cell_type": "raw",
     "metadata": {},
     "source": [
      "Subject names are the keys and the marks are values."
     ]
    },
    {
     "cell_type": "code",
     "collapsed": false,
     "input": [
      "carly_marks"
     ],
     "language": "python",
     "metadata": {},
     "outputs": [
      {
       "output_type": "pyout",
       "prompt_number": 3,
       "text": [
        "{'Chemistry': 14, 'English': 20, 'Maths': 19, 'Physics': 18, 'Programming': 20}"
       ]
      }
     ],
     "prompt_number": 3
    },
    {
     "cell_type": "code",
     "collapsed": false,
     "input": [
      "print \"carly_marks['Programming'] is %d\" % carly_marks['Programming']\n",
      "print \"or carly_marks.get('Programming') is %d\" % carly_marks.get('Programming')"
     ],
     "language": "python",
     "metadata": {},
     "outputs": [
      {
       "output_type": "stream",
       "stream": "stdout",
       "text": [
        "carly_marks['Programming'] is 20\n",
        "or carly_marks.get('Programming') is 20\n"
       ]
      }
     ],
     "prompt_number": 4
    },
    {
     "cell_type": "raw",
     "metadata": {},
     "source": [
      "Second one doesn't complain and returns blank if the key doesn't exist.\n",
      "If we need to insert into a dictionary???"
     ]
    },
    {
     "cell_type": "code",
     "collapsed": false,
     "input": [
      "carly_marks['Humanities'] = 19\n",
      "\n",
      "print \"carly_marks['Humanities'] = %d\" % carly_marks['Humanities']"
     ],
     "language": "python",
     "metadata": {},
     "outputs": [
      {
       "output_type": "stream",
       "stream": "stdout",
       "text": [
        "carly_marks['Humanities'] = 19\n"
       ]
      }
     ],
     "prompt_number": 5
    },
    {
     "cell_type": "raw",
     "metadata": {},
     "source": [
      "As simple as that. use carly_marks.keys() to get list of keys\n",
      "or carly_marks.values() to get list of values\n",
      "or carly_marks.iteritems() to iterate over the keys and values."
     ]
    }
   ],
   "metadata": {}
  }
 ]
}