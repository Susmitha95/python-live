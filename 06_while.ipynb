{
 "metadata": {
  "name": ""
 },
 "nbformat": 3,
 "nbformat_minor": 0,
 "worksheets": [
  {
   "cells": [
    {
     "cell_type": "markdown",
     "metadata": {},
     "source": [
      "## while loop in Python"
     ]
    },
    {
     "cell_type": "raw",
     "metadata": {},
     "source": [
      "'while' is a very popular programming construct and pervasive across all programming languages, which has been around from the very beginning. What 'while' does is very simple. \"While a condition is true, execute the following codeblock.\""
     ]
    },
    {
     "cell_type": "code",
     "collapsed": false,
     "input": [
      "carly_marks = [20, 19, 14, 18, 20]"
     ],
     "language": "python",
     "metadata": {},
     "outputs": [],
     "prompt_number": 1
    },
    {
     "cell_type": "code",
     "collapsed": false,
     "input": [
      "while carly_marks:\n",
      "\tprint carly_marks.pop()"
     ],
     "language": "python",
     "metadata": {},
     "outputs": [
      {
       "output_type": "stream",
       "stream": "stdout",
       "text": [
        "20\n",
        "18\n",
        "14\n",
        "19\n",
        "20\n"
       ]
      }
     ],
     "prompt_number": 2
    },
    {
     "cell_type": "code",
     "collapsed": false,
     "input": [
      "print carly_marks"
     ],
     "language": "python",
     "metadata": {},
     "outputs": [
      {
       "output_type": "stream",
       "stream": "stdout",
       "text": [
        "[]\n"
       ]
      }
     ],
     "prompt_number": 3
    },
    {
     "cell_type": "raw",
     "metadata": {},
     "source": [
      "Beware: list.pop() really pops out the value from the list, and makes it null."
     ]
    },
    {
     "cell_type": "raw",
     "metadata": {},
     "source": [
      "Another example with a loop counter shown below"
     ]
    },
    {
     "cell_type": "code",
     "collapsed": false,
     "input": [
      "counter = 5\n",
      "while counter > 2:\n",
      "\tprint counter\n",
      "\tcounter -= 1"
     ],
     "language": "python",
     "metadata": {},
     "outputs": [
      {
       "output_type": "stream",
       "stream": "stdout",
       "text": [
        "5\n",
        "4\n",
        "3\n"
       ]
      }
     ],
     "prompt_number": 4
    },
    {
     "cell_type": "markdown",
     "metadata": {},
     "source": [
      "\n",
      "\n",
      "#### _Go back to the blog post:_ [http://infiniteloop.in/blog/easiest-way-to-learn-python-part-2/](http://infiniteloop.in/blog/easiest-way-to-learn-python-part-2/)"
     ]
    }
   ],
   "metadata": {}
  }
 ]
}