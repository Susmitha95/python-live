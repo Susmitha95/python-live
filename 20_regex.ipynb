{
 "metadata": {
  "name": ""
 },
 "nbformat": 3,
 "nbformat_minor": 0,
 "worksheets": [
  {
   "cells": [
    {
     "cell_type": "markdown",
     "metadata": {},
     "source": [
      "## Regular Expressions for Pattern matching in Python"
     ]
    },
    {
     "cell_type": "raw",
     "metadata": {},
     "source": [
      "Python is known for its ability to search through and\n",
      "manipulate strings, and Regular Expression or the re module \n",
      "is one of the key ingredient in making python awesome at it."
     ]
    },
    {
     "cell_type": "code",
     "collapsed": false,
     "input": [
      "import re"
     ],
     "language": "python",
     "metadata": {},
     "outputs": [],
     "prompt_number": 1
    },
    {
     "cell_type": "code",
     "collapsed": false,
     "input": [
      "p = re.compile('ab*')"
     ],
     "language": "python",
     "metadata": {},
     "outputs": [],
     "prompt_number": 2
    },
    {
     "cell_type": "code",
     "collapsed": false,
     "input": [
      "re.findall(p, \"absolute vodka\")"
     ],
     "language": "python",
     "metadata": {},
     "outputs": [
      {
       "output_type": "pyout",
       "prompt_number": 3,
       "text": [
        "['ab', 'a']"
       ]
      }
     ],
     "prompt_number": 3
    },
    {
     "cell_type": "code",
     "collapsed": false,
     "input": [
      "matches = re.match(p, \"absolute vodka\")"
     ],
     "language": "python",
     "metadata": {},
     "outputs": [],
     "prompt_number": 5
    },
    {
     "cell_type": "code",
     "collapsed": false,
     "input": [
      "matches.group()"
     ],
     "language": "python",
     "metadata": {},
     "outputs": [
      {
       "output_type": "pyout",
       "prompt_number": 6,
       "text": [
        "'ab'"
       ]
      }
     ],
     "prompt_number": 6
    },
    {
     "cell_type": "raw",
     "metadata": {},
     "source": [
      "Following are the most important functions to look out for,\n",
      "in the re module.\n",
      "\n",
      "compile\n",
      "match\n",
      "search\n",
      "group\n",
      "findall\n",
      "split\n",
      "finditer\n",
      "sub"
     ]
    },
    {
     "cell_type": "code",
     "collapsed": false,
     "input": [
      "re.search('^From', 'From Here to Eternity')  "
     ],
     "language": "python",
     "metadata": {},
     "outputs": [
      {
       "output_type": "pyout",
       "prompt_number": 11,
       "text": [
        "<_sre.SRE_Match at 0x2f91308>"
       ]
      }
     ],
     "prompt_number": 11
    },
    {
     "cell_type": "code",
     "collapsed": false,
     "input": [
      "print re.search('^From', 'Reciting From Memory')"
     ],
     "language": "python",
     "metadata": {},
     "outputs": [
      {
       "output_type": "stream",
       "stream": "stdout",
       "text": [
        "None\n"
       ]
      }
     ],
     "prompt_number": 13
    },
    {
     "cell_type": "code",
     "collapsed": false,
     "input": [
      "p = re.compile('(ab)*')\n",
      "print p.match('ababababab').span()"
     ],
     "language": "python",
     "metadata": {},
     "outputs": [
      {
       "output_type": "stream",
       "stream": "stdout",
       "text": [
        "(0, 10)\n"
       ]
      }
     ],
     "prompt_number": 14
    },
    {
     "cell_type": "code",
     "collapsed": false,
     "input": [
      "p = re.compile(r'(?P<word>\\b\\w+)\\s+(?P=word)')\n",
      "p.search('Paris in the the spring').group()"
     ],
     "language": "python",
     "metadata": {},
     "outputs": [
      {
       "output_type": "pyout",
       "prompt_number": 15,
       "text": [
        "'the the'"
       ]
      }
     ],
     "prompt_number": 15
    },
    {
     "cell_type": "raw",
     "metadata": {},
     "source": [
      "Noticed the r in the begining of the string? \n",
      "It means that the expression to be matched is \n",
      "a raw string and not a regular string."
     ]
    },
    {
     "cell_type": "code",
     "collapsed": false,
     "input": [
      "p = re.compile(r'\\W+')\n",
      "p.split('This is a test, short and sweet, of split().')"
     ],
     "language": "python",
     "metadata": {},
     "outputs": [
      {
       "output_type": "pyout",
       "prompt_number": 16,
       "text": [
        "['This', 'is', 'a', 'test', 'short', 'and', 'sweet', 'of', 'split', '']"
       ]
      }
     ],
     "prompt_number": 16
    },
    {
     "cell_type": "code",
     "collapsed": false,
     "input": [
      "p = re.compile(r'\\d+')\n",
      ">>> p.split('This is a test, 007 short and sweet, of split().')"
     ],
     "language": "python",
     "metadata": {},
     "outputs": [
      {
       "output_type": "pyout",
       "prompt_number": 17,
       "text": [
        "['This is a test, ', ' short and sweet, of split().']"
       ]
      }
     ],
     "prompt_number": 17
    },
    {
     "cell_type": "code",
     "collapsed": false,
     "input": [
      "p = re.compile( '(blue|white|red)')\n",
      "p.sub( 'colour', 'blue socks and red shoes')"
     ],
     "language": "python",
     "metadata": {},
     "outputs": [
      {
       "output_type": "pyout",
       "prompt_number": 18,
       "text": [
        "'colour socks and colour shoes'"
       ]
      }
     ],
     "prompt_number": 18
    },
    {
     "cell_type": "markdown",
     "metadata": {},
     "source": [
      "__Python Regular Expression (regex) Cheatsheet__\n",
      "\n",
      "\n",
      "__'.'(Dot.)__ - In the default mode, this matches any character except a newline. If the DOTALL flag has been specified, this matches any character including a newline.\n",
      "\n",
      "\n",
      "__'^'(Caret.)__ - Matches the start of the string, and in MULTILINE mode also matches immediately after each newline.\n",
      "\n",
      "\n",
      "__'`$`'__ - Matches the end of the string or just before the newline at the end of the string, and in MULTILINE mode also matches before a newline. foo matches both \u2018foo\u2019 and \u2018foobar\u2019, while the regular expression `foo$` matches only \u2018foo\u2019. More interestingly, searching for `foo.$` in 'foo1\\nfoo2\\n' matches \u2018foo2\u2019 normally, but \u2018foo1\u2019 in MULTILINE mode; searching for a single `$` in 'foo\\n' will find two (empty) matches: one just before the newline, and one at the end of the string.`\n",
      "\n",
      "\n",
      "__'*'__ - Causes the resulting RE to match 0 or more repetitions of the preceding RE, as many repetitions as are possible. ab* will match \u2018a\u2019, \u2018ab\u2019, or \u2018a\u2019 followed by any number of \u2018b\u2019s.\n",
      "\n",
      "\n",
      "__'`+`'__- Causes the resulting RE to match 1 or more repetitions of the preceding RE. ab+ will match \u2018a\u2019 followed by any non-zero number of \u2018b\u2019s; it will not match just \u2018a\u2019.\n",
      "\n",
      "\n",
      "__'?'__ - Causes the resulting RE to match 0 or 1 repetitions of the preceding RE. ab? will match either \u2018a\u2019 or \u2018ab\u2019.\n",
      "\n",
      "\n",
      "* \\d - Matches any decimal digit; this is equivalent to the class [0-9].\n",
      "* \\D - Matches any non-digit character; this is equivalent to the class [^0-9].\n",
      "* \\s - Matches any whitespace character; this is equivalent to the class [ \\t\\n\\r\\f\\v].\n",
      "* \\S - Matches any non-whitespace character; this is equivalent to the class [^ \\t\\n\\r\\f\\v].\n",
      "* \\w - Matches any alphanumeric character; this is equivalent to the class [a-zA-Z0-9_].\n",
      "* \\W - Matches any non-alphanumeric character; this is equivalent to the class [^a-zA-Z0-9_].\n",
      "\n",
      "\n",
      "For more comprehesive and complete documentation, ref: http://docs.python.org/2/library/re.html#re-syntax"
     ]
    },
    {
     "cell_type": "markdown",
     "metadata": {},
     "source": [
      "\n",
      "\n",
      "#### _Go back to the blog post:_ [http://infiniteloop.in/blog/easiest-way-to-learn-python-part-4/](http://infiniteloop.in/blog/easiest-way-to-learn-python-part-4/)"
     ]
    }
   ],
   "metadata": {}
  }
 ]
}