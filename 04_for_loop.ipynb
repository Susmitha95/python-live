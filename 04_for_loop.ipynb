{
 "metadata": {
  "name": ""
 },
 "nbformat": 3,
 "nbformat_minor": 0,
 "worksheets": [
  {
   "cells": [
    {
     "cell_type": "markdown",
     "metadata": {},
     "source": [
      "## For Loop in Python"
     ]
    },
    {
     "cell_type": "raw",
     "metadata": {},
     "source": [
      "for loop is a construct in python to loop from one element to another, and executing a set of statements coming under the scope of that loop, defined by the 4 space tab indent. Simplest way to loop, over range 0 to 9 ( 10 times)"
     ]
    },
    {
     "cell_type": "code",
     "collapsed": false,
     "input": [
      "for i in range(0, 10):\n",
      "\tprint i"
     ],
     "language": "python",
     "metadata": {},
     "outputs": [
      {
       "output_type": "stream",
       "stream": "stdout",
       "text": [
        "0\n",
        "1\n",
        "2\n",
        "3\n",
        "4\n",
        "5\n",
        "6\n",
        "7\n",
        "8\n",
        "9\n"
       ]
      }
     ],
     "prompt_number": 1
    },
    {
     "cell_type": "raw",
     "metadata": {},
     "source": [
      "Instead of range, you can use xrange, which is a faster C implementation"
     ]
    },
    {
     "cell_type": "code",
     "collapsed": false,
     "input": [
      "for i in xrange(0, 10):\n",
      "\tprint i"
     ],
     "language": "python",
     "metadata": {},
     "outputs": [
      {
       "output_type": "stream",
       "stream": "stdout",
       "text": [
        "0\n",
        "1\n",
        "2\n",
        "3\n",
        "4\n",
        "5\n",
        "6\n",
        "7\n",
        "8\n",
        "9\n"
       ]
      }
     ],
     "prompt_number": 2
    },
    {
     "cell_type": "code",
     "collapsed": false,
     "input": [
      "carly_marks = [20, 19, 14, 18, 20]"
     ],
     "language": "python",
     "metadata": {},
     "outputs": [],
     "prompt_number": 3
    },
    {
     "cell_type": "raw",
     "metadata": {},
     "source": [
      "enumerate returns two values, a counter of the \n",
      "current item and the item itself, as shown below."
     ]
    },
    {
     "cell_type": "code",
     "collapsed": false,
     "input": [
      "for count, mark in enumerate(carly_marks):\n",
      "\tprint count, mark"
     ],
     "language": "python",
     "metadata": {},
     "outputs": [
      {
       "output_type": "stream",
       "stream": "stdout",
       "text": [
        "0 20\n",
        "1 19\n",
        "2 14\n",
        "3 18\n",
        "4 20\n"
       ]
      }
     ],
     "prompt_number": 4
    },
    {
     "cell_type": "markdown",
     "metadata": {},
     "source": [
      "\n",
      "\n",
      "#### _Go back to the blog post:_ [http://infiniteloop.in/blog/easiest-way-to-learn-python-part-1/](http://infiniteloop.in/blog/easiest-way-to-learn-python-part-1/)"
     ]
    }
   ],
   "metadata": {}
  }
 ]
}