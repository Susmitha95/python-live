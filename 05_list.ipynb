{
 "metadata": {
  "name": "05_list"
 },
 "nbformat": 3,
 "nbformat_minor": 0,
 "worksheets": [
  {
   "cells": [
    {
     "cell_type": "raw",
     "metadata": {},
     "source": [
      "Meet Mr. Doe. He's a bakery owner and got 5 items in his inventory.\n",
      "He needs to keep his items in an ordered way, and able to access it easily."
     ]
    },
    {
     "cell_type": "code",
     "collapsed": false,
     "input": [
      "doe_store = [\n",
      "\t\t\t \"Cookie\",\n",
      "\t\t\t \"Pastry\", \n",
      "\t\t\t \"Pizza\", \n",
      "\t\t\t \"Coffee\", \n",
      "\t\t\t \"Laddu\"\n",
      "\t\t\t ]"
     ],
     "language": "python",
     "metadata": {},
     "outputs": [],
     "prompt_number": 1
    },
    {
     "cell_type": "code",
     "collapsed": false,
     "input": [
      "print \"doe_store has \", doe_store\n",
      "print \"first item is %s\" % doe_store[0]\n",
      "print \"3rd item is %s\" % doe_store[2]"
     ],
     "language": "python",
     "metadata": {},
     "outputs": [
      {
       "output_type": "stream",
       "stream": "stdout",
       "text": [
        "doe_store has  ['Cookie', 'Pastry', 'Pizza', 'Coffee', 'Laddu']\n",
        "first item is Cookie\n",
        "3rd item is Pizza\n"
       ]
      }
     ],
     "prompt_number": 2
    },
    {
     "cell_type": "raw",
     "metadata": {},
     "source": [
      "Iterating over the doe_store for each item and printing it"
     ]
    },
    {
     "cell_type": "code",
     "collapsed": false,
     "input": [
      "for item in doe_store:\n",
      "\tprint item"
     ],
     "language": "python",
     "metadata": {},
     "outputs": [
      {
       "output_type": "stream",
       "stream": "stdout",
       "text": [
        "Cookie\n",
        "Pastry\n",
        "Pizza\n",
        "Coffee\n",
        "Laddu\n"
       ]
      }
     ],
     "prompt_number": 3
    },
    {
     "cell_type": "raw",
     "metadata": {},
     "source": [
      "List comprehension: Adding a little Doe's customization"
     ]
    },
    {
     "cell_type": "code",
     "collapsed": false,
     "input": [
      "doe_new_store = [\"Doe's %s\" % item for item in doe_store]\n",
      "print doe_new_store"
     ],
     "language": "python",
     "metadata": {},
     "outputs": [
      {
       "output_type": "stream",
       "stream": "stdout",
       "text": [
        "[\"Doe's Cookie\", \"Doe's Pastry\", \"Doe's Pizza\", \"Doe's Coffee\", \"Doe's Laddu\"]\n"
       ]
      }
     ],
     "prompt_number": 4
    },
    {
     "cell_type": "raw",
     "metadata": {},
     "source": [
      "Now, if Doe wants to add one more item to the List"
     ]
    },
    {
     "cell_type": "code",
     "collapsed": false,
     "input": [
      "doe_store[4] = \"Mousse\"\n",
      "print doe_store"
     ],
     "language": "python",
     "metadata": {},
     "outputs": [
      {
       "output_type": "stream",
       "stream": "stdout",
       "text": [
        "['Cookie', 'Pastry', 'Pizza', 'Coffee', 'Mousse']\n"
       ]
      }
     ],
     "prompt_number": 5
    },
    {
     "cell_type": "raw",
     "metadata": {},
     "source": [
      "What if Doe wants to remove one item from the List"
     ]
    },
    {
     "cell_type": "code",
     "collapsed": false,
     "input": [
      "doe_store.remove(\"Coffee\")\n",
      "print doe_store"
     ],
     "language": "python",
     "metadata": {},
     "outputs": [
      {
       "output_type": "stream",
       "stream": "stdout",
       "text": [
        "['Cookie', 'Pastry', 'Pizza', 'Mousse']\n"
       ]
      }
     ],
     "prompt_number": 6
    },
    {
     "cell_type": "raw",
     "metadata": {},
     "source": [
      "Sort the List"
     ]
    },
    {
     "cell_type": "code",
     "collapsed": false,
     "input": [
      "doe_store.sort()\n",
      "print doe_store"
     ],
     "language": "python",
     "metadata": {},
     "outputs": [
      {
       "output_type": "stream",
       "stream": "stdout",
       "text": [
        "['Cookie', 'Mousse', 'Pastry', 'Pizza']\n"
       ]
      }
     ],
     "prompt_number": 7
    },
    {
     "cell_type": "raw",
     "metadata": {},
     "source": [
      "Reverse the List"
     ]
    },
    {
     "cell_type": "code",
     "collapsed": false,
     "input": [
      "doe_store.reverse()\n",
      "print doe_store"
     ],
     "language": "python",
     "metadata": {},
     "outputs": [
      {
       "output_type": "stream",
       "stream": "stdout",
       "text": [
        "['Pizza', 'Pastry', 'Mousse', 'Cookie']\n"
       ]
      }
     ],
     "prompt_number": 8
    },
    {
     "cell_type": "raw",
     "metadata": {},
     "source": [
      "Slice a list"
     ]
    },
    {
     "cell_type": "code",
     "collapsed": false,
     "input": [
      "print doe_store[1:3]"
     ],
     "language": "python",
     "metadata": {},
     "outputs": [
      {
       "output_type": "stream",
       "stream": "stdout",
       "text": [
        "['Pastry', 'Mousse']\n"
       ]
      }
     ],
     "prompt_number": 10
    },
    {
     "cell_type": "raw",
     "metadata": {},
     "source": [
      "There is a lot more you can do with list; \n",
      "You can insert any type of data into a list. \n",
      "Try a mixture of str and int / list of lists."
     ]
    }
   ],
   "metadata": {}
  }
 ]
}