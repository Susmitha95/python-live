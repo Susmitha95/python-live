{
 "metadata": {
  "name": "10_functions"
 },
 "nbformat": 3,
 "nbformat_minor": 0,
 "worksheets": [
  {
   "cells": [
    {
     "cell_type": "raw",
     "metadata": {},
     "source": [
      "Alice needs to add a few numbers recursively.\n",
      "So she wrote a simple function for adding numbers, and called the same function over and over to achieve her goal."
     ]
    },
    {
     "cell_type": "code",
     "collapsed": false,
     "input": [
      "def alice_adder(num1, num2):\n",
      "\treturn num1 + num2"
     ],
     "language": "python",
     "metadata": {},
     "outputs": [],
     "prompt_number": 1
    },
    {
     "cell_type": "markdown",
     "metadata": {},
     "source": [
      "## ! Important##"
     ]
    },
    {
     "cell_type": "raw",
     "metadata": {},
     "source": [
      "With the above code block, we DEFINE the function. Its NOT implicitly CALLED, just defined. \n",
      "\n",
      "def is the keyword for defining the function, followed by the name of the function enclosing list of arguments in paranthesis. return statement is the last statement in the function, and it returns a value to the place from where the function was called. Even though return statement is optional, its a good practice to keep it at the end of all functions."
     ]
    },
    {
     "cell_type": "code",
     "collapsed": false,
     "input": [
      "total_sum = alice_adder(1001, 721)"
     ],
     "language": "python",
     "metadata": {},
     "outputs": [],
     "prompt_number": 2
    },
    {
     "cell_type": "raw",
     "metadata": {},
     "source": [
      "alice_adder function which was previously defined, is called with 2 arguments, 1001 and 721. As we can see in the function, it adds both numbers and returns it. In the second statement, the sum is assigned to the total_sum."
     ]
    },
    {
     "cell_type": "code",
     "collapsed": false,
     "input": [
      "print total_sum"
     ],
     "language": "python",
     "metadata": {},
     "outputs": [
      {
       "output_type": "stream",
       "stream": "stdout",
       "text": [
        "1722\n"
       ]
      }
     ],
     "prompt_number": 3
    },
    {
     "cell_type": "raw",
     "metadata": {},
     "source": [
      "To achieve Alice's goal, let's do an iterative call to the alice_adder function."
     ]
    },
    {
     "cell_type": "code",
     "collapsed": false,
     "input": [
      "recursive = alice_adder(alice_adder(100,50), alice_adder(50,75))\n",
      "print recursive"
     ],
     "language": "python",
     "metadata": {},
     "outputs": [
      {
       "output_type": "stream",
       "stream": "stdout",
       "text": [
        "275\n"
       ]
      }
     ],
     "prompt_number": 4
    }
   ],
   "metadata": {}
  }
 ]
}