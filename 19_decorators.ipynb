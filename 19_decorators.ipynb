{
 "metadata": {
  "name": ""
 },
 "nbformat": 3,
 "nbformat_minor": 0,
 "worksheets": [
  {
   "cells": [
    {
     "cell_type": "markdown",
     "metadata": {},
     "source": [
      "## Function Decorators in Python"
     ]
    },
    {
     "cell_type": "raw",
     "metadata": {},
     "source": [
      "Decoration for functions is a way in python is add additional \n",
      "capabilities while a function is being invoked.\n",
      "These decorator functions are called prior to the \n",
      "execution of the function, and there by manipulating the \n",
      "flow of control around the function. \n",
      "For eg., controlling access to a specific function."
     ]
    },
    {
     "cell_type": "code",
     "collapsed": false,
     "input": [
      "def decoration(func):\n",
      "\t\"\"\"\n",
      "\tDecorator function definition takes function as an argument.\n",
      "\t\"\"\"\n",
      "\tdef inner(*args, **kwargs):\n",
      "\t\tprint \"Decorating ...\"\n",
      "\t\tfunt = func(*args, **kwargs)\n",
      "\t\tprint \"Decoration after function\"\n",
      "\t\treturn funt\n",
      "\treturn inner"
     ],
     "language": "python",
     "metadata": {},
     "outputs": [],
     "prompt_number": 1
    },
    {
     "cell_type": "code",
     "collapsed": false,
     "input": [
      "@decoration\n",
      "def test_function():\n",
      "\t\"\"\"\n",
      "\t@decoration just above the function definition calls the \n",
      "\tdecorator function of the same name with the test_function as\n",
      "\tan argument.\n",
      "\t\"\"\"\n",
      "\tprint \"Text from function\""
     ],
     "language": "python",
     "metadata": {},
     "outputs": [],
     "prompt_number": 2
    },
    {
     "cell_type": "code",
     "collapsed": false,
     "input": [
      "test_function()"
     ],
     "language": "python",
     "metadata": {},
     "outputs": [
      {
       "output_type": "stream",
       "stream": "stdout",
       "text": [
        "Decorating ...\n",
        "Text from function\n",
        "Decoration after function\n"
       ]
      }
     ],
     "prompt_number": 3
    },
    {
     "cell_type": "raw",
     "metadata": {},
     "source": [
      "Decorators are great when you need a specific function to be run\n",
      "everytime a group of other functions are called. \n",
      "Best example would be authorization. We need to check authorization \n",
      "each time he accesses any data item, and we can use decorator functions\n",
      "which checks the user's access permission prior to access through \n",
      "any of the functions."
     ]
    },
    {
     "cell_type": "markdown",
     "metadata": {},
     "source": [
      "\n",
      "\n",
      "#### _Go back to the blog post:_ [http://infiniteloop.in/blog/easiest-way-to-learn-python-part-4/](http://infiniteloop.in/blog/easiest-way-to-learn-python-part-4/)"
     ]
    }
   ],
   "metadata": {}
  }
 ]
}