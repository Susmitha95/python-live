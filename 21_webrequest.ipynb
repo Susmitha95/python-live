{
 "metadata": {
  "name": ""
 },
 "nbformat": 3,
 "nbformat_minor": 0,
 "worksheets": [
  {
   "cells": [
    {
     "cell_type": "raw",
     "metadata": {},
     "source": [
      "You can make use of urllib2 for fetching webpages and working on it.\n",
      "requests is another popular module for similar usage uses.\n",
      "beautifulsoup is an HTML parser library."
     ]
    },
    {
     "cell_type": "code",
     "collapsed": false,
     "input": [
      "import urllib2"
     ],
     "language": "python",
     "metadata": {},
     "outputs": [],
     "prompt_number": 1
    },
    {
     "cell_type": "code",
     "collapsed": false,
     "input": [
      "response = urllib2.urlopen('http://www.brainjar.com/java/host/test.html')\n",
      "html = response.read()\n",
      "print html"
     ],
     "language": "python",
     "metadata": {},
     "outputs": [
      {
       "output_type": "stream",
       "stream": "stdout",
       "text": [
        "<!DOCTYPE html PUBLIC \"-//W3C//DTD XHTML 1.0 Strict//EN\" \"http://www.w3.org/TR/xhtml1/DTD/xhtml1-strict.dtd\">\r\n",
        "<html>\r\n",
        "<head>\r\n",
        "<title>Test HTML File</title>\r\n",
        "<meta http-equiv=\"Content-Type\" content=\"text/html;charset=utf-8\" />\r\n",
        "</head>\r\n",
        "<body>\r\n",
        "\r\n",
        "<p>This is a very simple HTML file.</p>\r\n",
        "\r\n",
        "</body>\r\n",
        "</html>\r\n",
        "\n"
       ]
      }
     ],
     "prompt_number": 2
    },
    {
     "cell_type": "markdown",
     "metadata": {},
     "source": [
      "\n",
      "\n",
      "#### _Go back to the blog post:_ http://infiniteloop.in/blog/easiest-way-to-learn-python-part-5/"
     ]
    }
   ],
   "metadata": {}
  }
 ]
}